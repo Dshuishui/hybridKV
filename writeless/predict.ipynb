{
 "cells": [
  {
   "cell_type": "code",
   "execution_count": 26,
   "metadata": {},
   "outputs": [],
   "source": [
    "import torch\n",
    "import torch.nn as nn\n",
    "from torch.utils.data import DataLoader, Dataset\n",
    "import numpy as np\n",
    "import pandas as pd\n",
    "import matplotlib.pyplot as plt\n",
    "from tqdm import tqdm\n",
    "\n",
    "# Define the LSTM model\n",
    "class LSTMModel(nn.Module):\n",
    "    def __init__(self, input_size, hidden_size, output_size):\n",
    "        super(LSTMModel, self).__init__()\n",
    "        self.hidden_size = hidden_size\n",
    "        self.lstm = nn.LSTM(input_size, hidden_size)\n",
    "        self.fc = nn.Linear(hidden_size, output_size)\n",
    "\n",
    "    def forward(self, x):\n",
    "        h0 = torch.zeros(1, x.size(1), self.hidden_size).to(x.device)\n",
    "        c0 = torch.zeros(1, x.size(1), self.hidden_size).to(x.device)\n",
    "        out, _ = self.lstm(x, (h0, c0))\n",
    "        out = self.fc(out[-1, :, :])\n",
    "        return out\n",
    "\n",
    "# Custom dataset class\n",
    "class PredictDataset(Dataset):\n",
    "    def __init__(self, data, window_size):\n",
    "        self.data = data\n",
    "        self.window_size = window_size\n",
    "        # load write_counts column\n",
    "        self.targets = data[:, 2]\n",
    "\n",
    "    def __len__(self):\n",
    "        return len(self.data) - self.window_size\n",
    "\n",
    "    def __getitem__(self, idx):\n",
    "        window = self.data[idx:idx + self.window_size]\n",
    "        target = self.targets[idx + self.window_size]\n",
    "        target = torch.tensor(target)\n",
    "        return torch.tensor(window), target\n",
    "\n",
    "# Hyperparameters\n",
    "input_size = 3  # read_time and period\n",
    "hidden_size = 64\n",
    "output_size = 1  # write_counts\n",
    "learning_rate = 0.01\n",
    "num_epochs = 15\n",
    "batch_size = 16\n",
    "window_size = 40\n",
    "\n",
    "# Load dataset\n",
    "# data = pd.read_csv('dataset.csv')\n",
    "data = pd.read_csv('dataset.csv')\n",
    "data = data[['read_time', 'period', 'write_counts']].values.astype(float)\n",
    "\n",
    "# # Normalize data\n",
    "data_mean = np.mean(data, axis=0)\n",
    "data_std = np.std(data, axis=0)\n",
    "data = (data - data_mean) / data_std\n",
    "\n",
    "# Split data into train and test sets\n",
    "# train_size = int(0.8 * len(data))\n",
    "train_data = data\n",
    "test_data = data\n",
    "\n",
    "# Create dataloaders\n",
    "train_dataset = PredictDataset(train_data, window_size)\n",
    "test_dataset = PredictDataset(test_data, window_size)\n",
    "train_loader = DataLoader(train_dataset, batch_size=batch_size, shuffle=True)\n",
    "test_loader = DataLoader(test_dataset, batch_size=batch_size, shuffle=False)\n",
    "\n",
    "# Initialize the model\n",
    "model = LSTMModel(input_size, hidden_size, output_size)\n",
    "\n",
    "# Define loss function and optimizer\n",
    "criterion = nn.MSELoss()\n",
    "optimizer = torch.optim.Adam(model.parameters(), lr=learning_rate)\n"
   ]
  },
  {
   "cell_type": "code",
   "execution_count": 27,
   "metadata": {},
   "outputs": [
    {
     "name": "stderr",
     "output_type": "stream",
     "text": [
      "  7%|▋         | 1/15 [00:04<01:00,  4.33s/it]"
     ]
    },
    {
     "name": "stdout",
     "output_type": "stream",
     "text": [
      "Epoch [1/15], Loss: 0.7283\n"
     ]
    },
    {
     "name": "stderr",
     "output_type": "stream",
     "text": [
      " 13%|█▎        | 2/15 [00:08<00:51,  3.96s/it]"
     ]
    },
    {
     "name": "stdout",
     "output_type": "stream",
     "text": [
      "Epoch [2/15], Loss: 0.7112\n"
     ]
    },
    {
     "name": "stderr",
     "output_type": "stream",
     "text": [
      " 20%|██        | 3/15 [00:11<00:45,  3.79s/it]"
     ]
    },
    {
     "name": "stdout",
     "output_type": "stream",
     "text": [
      "Epoch [3/15], Loss: 0.7072\n"
     ]
    },
    {
     "name": "stderr",
     "output_type": "stream",
     "text": [
      " 27%|██▋       | 4/15 [00:15<00:40,  3.72s/it]"
     ]
    },
    {
     "name": "stdout",
     "output_type": "stream",
     "text": [
      "Epoch [4/15], Loss: 0.7050\n"
     ]
    },
    {
     "name": "stderr",
     "output_type": "stream",
     "text": [
      " 33%|███▎      | 5/15 [00:18<00:36,  3.65s/it]"
     ]
    },
    {
     "name": "stdout",
     "output_type": "stream",
     "text": [
      "Epoch [5/15], Loss: 0.7048\n"
     ]
    },
    {
     "name": "stderr",
     "output_type": "stream",
     "text": [
      " 40%|████      | 6/15 [00:22<00:32,  3.63s/it]"
     ]
    },
    {
     "name": "stdout",
     "output_type": "stream",
     "text": [
      "Epoch [6/15], Loss: 0.7037\n"
     ]
    },
    {
     "name": "stderr",
     "output_type": "stream",
     "text": [
      " 47%|████▋     | 7/15 [00:25<00:28,  3.62s/it]"
     ]
    },
    {
     "name": "stdout",
     "output_type": "stream",
     "text": [
      "Epoch [7/15], Loss: 0.7031\n"
     ]
    },
    {
     "name": "stderr",
     "output_type": "stream",
     "text": [
      " 53%|█████▎    | 8/15 [00:29<00:25,  3.60s/it]"
     ]
    },
    {
     "name": "stdout",
     "output_type": "stream",
     "text": [
      "Epoch [8/15], Loss: 0.7017\n"
     ]
    },
    {
     "name": "stderr",
     "output_type": "stream",
     "text": [
      " 60%|██████    | 9/15 [00:32<00:21,  3.55s/it]"
     ]
    },
    {
     "name": "stdout",
     "output_type": "stream",
     "text": [
      "Epoch [9/15], Loss: 0.7011\n"
     ]
    },
    {
     "name": "stderr",
     "output_type": "stream",
     "text": [
      " 67%|██████▋   | 10/15 [00:36<00:17,  3.53s/it]"
     ]
    },
    {
     "name": "stdout",
     "output_type": "stream",
     "text": [
      "Epoch [10/15], Loss: 0.7004\n"
     ]
    },
    {
     "name": "stderr",
     "output_type": "stream",
     "text": [
      " 73%|███████▎  | 11/15 [00:39<00:14,  3.53s/it]"
     ]
    },
    {
     "name": "stdout",
     "output_type": "stream",
     "text": [
      "Epoch [11/15], Loss: 0.6996\n"
     ]
    },
    {
     "name": "stderr",
     "output_type": "stream",
     "text": [
      " 80%|████████  | 12/15 [00:43<00:10,  3.54s/it]"
     ]
    },
    {
     "name": "stdout",
     "output_type": "stream",
     "text": [
      "Epoch [12/15], Loss: 0.6987\n"
     ]
    },
    {
     "name": "stderr",
     "output_type": "stream",
     "text": [
      " 87%|████████▋ | 13/15 [00:47<00:07,  3.54s/it]"
     ]
    },
    {
     "name": "stdout",
     "output_type": "stream",
     "text": [
      "Epoch [13/15], Loss: 0.6984\n"
     ]
    },
    {
     "name": "stderr",
     "output_type": "stream",
     "text": [
      " 93%|█████████▎| 14/15 [00:50<00:03,  3.52s/it]"
     ]
    },
    {
     "name": "stdout",
     "output_type": "stream",
     "text": [
      "Epoch [14/15], Loss: 0.6966\n"
     ]
    },
    {
     "name": "stderr",
     "output_type": "stream",
     "text": [
      "100%|██████████| 15/15 [00:54<00:00,  3.61s/it]"
     ]
    },
    {
     "name": "stdout",
     "output_type": "stream",
     "text": [
      "Epoch [15/15], Loss: 0.6949\n"
     ]
    },
    {
     "name": "stderr",
     "output_type": "stream",
     "text": [
      "\n"
     ]
    },
    {
     "data": {
      "image/png": "[encoded data removed]",
      "text/plain": [
       "<Figure size 640x480 with 1 Axes>"
      ]
     },
     "metadata": {},
     "output_type": "display_data"
    }
   ],
   "source": [
    "\n",
    "# Train the model\n",
    "losses = []\n",
    "for epoch in tqdm(range(num_epochs)):\n",
    "    total_loss = 0\n",
    "    model.train()\n",
    "    for inputs, targets in train_loader:\n",
    "        inputs = inputs.permute(1, 0, 2)  # Change shape to (seq_len, batch_size, input_size)\n",
    "        inputs = inputs.float()\n",
    "        targets = targets.float()\n",
    "        targets = targets.view(-1, 1)\n",
    "        outputs = model(inputs)\n",
    "        # print(f\"{targets=}, {outputs=}\")\n",
    "\n",
    "        optimizer.zero_grad()\n",
    "        loss = criterion(outputs, targets)\n",
    "        loss.backward()\n",
    "        optimizer.step()\n",
    "\n",
    "        total_loss += loss.item()\n",
    "\n",
    "    avg_loss = total_loss / len(train_loader)\n",
    "    losses.append(avg_loss)\n",
    "    tqdm.write(f\"Epoch [{epoch + 1}/{num_epochs}], Loss: {avg_loss:.4f}\")\n",
    "\n",
    "# Plot loss curve\n",
    "plt.plot(losses)\n",
    "plt.xlabel('Epoch')\n",
    "plt.ylabel('Loss')\n",
    "plt.title('Training Loss Curve')\n",
    "plt.show()\n"
   ]
  },
  {
   "cell_type": "code",
   "execution_count": 28,
   "metadata": {},
   "outputs": [],
   "source": [
    "# Evaluate the model\n",
    "model.eval()\n",
    "predicted = []\n",
    "true = []\n",
    "with torch.no_grad():\n",
    "    correct = 0\n",
    "    total = 0\n",
    "    for inputs, targets in test_loader:\n",
    "        inputs = inputs.permute(1, 0, 2)\n",
    "        inputs = inputs.float()\n",
    "        targets = targets.float()\n",
    "        outputs = model(inputs)\n",
    "        predicted.extend(outputs.cpu().numpy())\n",
    "        true.extend(targets.cpu().numpy())\n",
    "    #     total += targets.size(0)\n",
    "    #     out2 = outputs.cpu().numpy()\n",
    "    #     tar2 = targets.cpu().numpy()\n",
    "    #     temp = out2 == tar2\n",
    "    #     correct += temp.sum().item()\n",
    "    # accuracy = 100 * correct / total\n",
    "    # print('outputs.cpu().numpy():{:.2f}'.format(out2))\n",
    "    # print('targets.cpu().numpy():{:.2f}'.format(tar2))\n",
    "    # print('total:{:.2f}'.format(total))\n",
    "    # print('Accuracy of the model on the test dataset: {:.2f} %'.format(accuracy))\n"
   ]
  },
  {
   "cell_type": "code",
   "execution_count": 29,
   "metadata": {},
   "outputs": [],
   "source": [
    "\n",
    "# De-normalize data\n",
    "# predicted = np.array(predicted)\n",
    "# true = np.array(true)\n",
    "predicted = np.array(predicted) * data_std[2] + data_mean[2]\n",
    "\n",
    "# 创建一个 window_size行空值的数组\n",
    "empty_values = np.empty((window_size, 1))\n",
    "empty_values.fill(np.nan)\n",
    "\n",
    "# 垂直堆叠 empty_values 到 predicted 数组中\n",
    "predicted_new = np.vstack((empty_values, predicted))\n",
    "\n",
    "df = pd.read_csv('dataset.csv')\n",
    "df = df[['read_time', 'period', 'write_counts']]\n",
    "\n",
    "# 将 predictions 添加到 DataFrame 中\n",
    "df['predictions'] = predicted_new\n",
    "df.to_csv('dataset.csv')"
   ]
  },
  {
   "cell_type": "code",
   "execution_count": 30,
   "metadata": {},
   "outputs": [
    {
     "name": "stdout",
     "output_type": "stream",
     "text": [
      "Accuracy of the model on the test dataset: 21.55 %\n"
     ]
    }
   ],
   "source": [
    "data2 = pd.read_csv('dataset.csv')\n",
    "selected_columns = ['read_time', 'period', 'write_counts', 'predictions']\n",
    "data2 = data2[selected_columns].values.astype(float)\n",
    "total = 0\n",
    "correct = 0\n",
    "for index, (read_time, period, write_counts, predictions) in enumerate(data2):\n",
    "    if predictions>0:\n",
    "        predictions = round(predictions)\n",
    "        total += 1\n",
    "        correct += write_counts == predictions\n",
    "accuracy = 100 * correct / total\n",
    "print('Accuracy of the model on the test dataset: {:.2f} %'.format(accuracy))\n",
    "    \n"
   ]
  }
 ],
 "metadata": {
  "kernelspec": {
   "display_name": "Python 3.8.10 64-bit",
   "language": "python",
   "name": "python3"
  },
  "language_info": {
   "codemirror_mode": {
    "name": "ipython",
    "version": 3
   },
   "file_extension": ".py",
   "mimetype": "text/x-python",
   "name": "python",
   "nbconvert_exporter": "python",
   "pygments_lexer": "ipython3",
   "version": "3.8.10"
  },
  "orig_nbformat": 4,
  "vscode": {
   "interpreter": {
    "hash": "916dbcbb3f70747c44a77c7bcd40155683ae19c65e1c03b4aa3499c5328201f1"
   }
  }
 },
 "nbformat": 4,
 "nbformat_minor": 2
}
