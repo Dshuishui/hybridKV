{
 "cells": [
  {
   "cell_type": "code",
   "execution_count": 2,
   "metadata": {},
   "outputs": [],
   "source": [
    "import pandas   "
   ]
  },
  {
   "cell_type": "code",
   "execution_count": 27,
   "metadata": {},
   "outputs": [],
   "source": [
    "all_rows = 300000\n",
    "btcusd_time_low = pandas.read_csv('./dataset/btcusd.csv', usecols=['time', 'low'],\n",
    "    nrows=all_rows)"
   ]
  },
  {
   "cell_type": "code",
   "execution_count": 4,
   "metadata": {},
   "outputs": [],
   "source": [
    "btcusd_time_low.rename(columns={'name': 'time'}, inplace=True)"
   ]
  },
  {
   "cell_type": "code",
   "execution_count": 24,
   "metadata": {},
   "outputs": [
    {
     "name": "stdout",
     "output_type": "stream",
     "text": [
      "            time     low\n",
      "0  1364774820000   93.25\n",
      "1  1364774880000  100.00\n",
      "2  1364774940000   93.30\n",
      "3  1364775060000   93.35\n",
      "4  1364775120000   93.47\n"
     ]
    }
   ],
   "source": [
    "print(btcusd_time_low.head())"
   ]
  },
  {
   "cell_type": "code",
   "execution_count": 35,
   "metadata": {},
   "outputs": [
    {
     "name": "stdout",
     "output_type": "stream",
     "text": [
      "1364820660000\n"
     ]
    }
   ],
   "source": [
    "print(btcusd_time_low['time'][89])"
   ]
  },
  {
   "cell_type": "code",
   "execution_count": 31,
   "metadata": {},
   "outputs": [],
   "source": [
    "data = {'read_time':[],\n",
    "        'write_counts':[],\n",
    "        'period':[],}\n",
    "df = pandas.DataFrame(data)"
   ]
  },
  {
   "cell_type": "code",
   "execution_count": 32,
   "metadata": {},
   "outputs": [],
   "source": [
    "count = 0\n",
    "epoch = 10\n",
    "dataset_rows = all_rows/epoch\n",
    "for i in range(0, int(dataset_rows)):\n",
    "    temp_write_counts = 0\n",
    "    for j in range(count*epoch, (count+1)*epoch):\n",
    "        if j == 0 :\n",
    "            continue\n",
    "        if abs(btcusd_time_low['low'][j] - btcusd_time_low['low'][j-1])>0.1:\n",
    "            temp_write_counts +=1\n",
    "    df.loc[i, 'read_time'] = btcusd_time_low['time'][(count+1)*epoch-1]\n",
    "    df.loc[i, 'write_counts']= temp_write_counts\n",
    "    if i==0:\n",
    "        df.loc[i, 'period'] = 0\n",
    "    else:\n",
    "        df.loc[i, 'period'] = (df.loc[i, 'read_time'] - df.loc[i-1, 'read_time'])/1000\n",
    "    # print(df.loc[i, 'write_counts'])\n",
    "    count +=1\n"
   ]
  },
  {
   "cell_type": "code",
   "execution_count": 33,
   "metadata": {},
   "outputs": [
    {
     "name": "stdout",
     "output_type": "stream",
     "text": [
      "      read_time  write_counts   period\n",
      "0 1364777580000             6        0\n",
      "1 1364780160000             5  2580000\n",
      "2 1364784720000             3  4560000\n",
      "3 1364797380000             5 12660000\n",
      "4 1364810700000             6 13320000\n"
     ]
    }
   ],
   "source": [
    "pandas.options.display.float_format = '{:.0f}'.format\n",
    "print(df.head())"
   ]
  },
  {
   "cell_type": "code",
   "execution_count": 34,
   "metadata": {},
   "outputs": [],
   "source": [
    "df.to_csv('./dataset/btcusd_low.csv', index=False)"
   ]
  },
  {
   "cell_type": "code",
   "execution_count": null,
   "metadata": {},
   "outputs": [],
   "source": []
  }
 ],
 "metadata": {
  "kernelspec": {
   "display_name": "Python 3.8.10 64-bit",
   "language": "python",
   "name": "python3"
  },
  "language_info": {
   "codemirror_mode": {
    "name": "ipython",
    "version": 3
   },
   "file_extension": ".py",
   "mimetype": "text/x-python",
   "name": "python",
   "nbconvert_exporter": "python",
   "pygments_lexer": "ipython3",
   "version": "3.8.10"
  },
  "orig_nbformat": 4,
  "vscode": {
   "interpreter": {
    "hash": "916dbcbb3f70747c44a77c7bcd40155683ae19c65e1c03b4aa3499c5328201f1"
   }
  }
 },
 "nbformat": 4,
 "nbformat_minor": 2
}
